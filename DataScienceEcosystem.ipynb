{
 "cells": [
  {
   "cell_type": "markdown",
   "id": "79c59560-4709-48c8-a5b6-3ca58d2d8147",
   "metadata": {},
   "source": [
    "# Data Science Tools and Ecosystem"
   ]
  },
  {
   "cell_type": "markdown",
   "id": "af53fde1-1065-4c8c-9b0b-e3cd230c9558",
   "metadata": {},
   "source": [
    "In this notebook, Data Science Tools and Ecosystem are summarized"
   ]
  },
  {
   "cell_type": "markdown",
   "id": "a2a3ae80-f97c-443d-b303-db8372d700af",
   "metadata": {},
   "source": [
    "**Objectives :**\n",
    "\n",
    "- List Popular language for Data Science\n",
    "- List librairies commonly used in Data Sciences\n",
    "- List some Data Science tools\n",
    "- Give examples of arithmetics calculation"
   ]
  },
  {
   "cell_type": "markdown",
   "id": "3c351e37-719b-41b1-ace4-121387bd173c",
   "metadata": {},
   "source": [
    "Some of the popular languages that Data Scientist use are :\n",
    "1. Python\n",
    "2. R\n",
    "3. Scala\n",
    "  "
   ]
  },
  {
   "cell_type": "markdown",
   "id": "9ac62d06-e5c4-46fa-8654-74ee7137d475",
   "metadata": {},
   "source": [
    "Some of the commonly used libraries used by Data Scientist include:\n",
    "\n",
    "1. Pandas\n",
    "2. Scikit Learn\n",
    "3. Matplotlib\n"
   ]
  },
  {
   "cell_type": "markdown",
   "id": "19d504d0-81b9-4217-9b71-29fc1e7c22f9",
   "metadata": {},
   "source": [
    "|Data Science Tools|\n",
    "|---|\n",
    "|R studio|\n",
    "|JupyterLab|\n",
    "|VisualCode|\n"
   ]
  },
  {
   "cell_type": "markdown",
   "id": "c7fb569d-bf8e-488b-aac5-314cf434a2cb",
   "metadata": {},
   "source": [
    "### Below are a few examples of evaluating arithmetic expression in Python"
   ]
  },
  {
   "cell_type": "code",
   "execution_count": 3,
   "id": "3f7f6fb3-87ad-4463-9295-2f4593acab54",
   "metadata": {},
   "outputs": [
    {
     "data": {
      "text/plain": [
       "17"
      ]
     },
     "execution_count": 3,
     "metadata": {},
     "output_type": "execute_result"
    }
   ],
   "source": [
    "#This a simple arithmetic expression to multiply than add integers\n",
    "(3*4)+5"
   ]
  },
  {
   "cell_type": "code",
   "execution_count": 4,
   "id": "fc05116e-82b1-4cb2-9dce-98a3b5880d49",
   "metadata": {},
   "outputs": [
    {
     "name": "stdout",
     "output_type": "stream",
     "text": [
      "3.3333333333333335\n"
     ]
    }
   ],
   "source": [
    "#This will convert 200 minutes to hours by dividing by 60\n",
    "minutes=200\n",
    "hours=minutes/60\n",
    "print(hours)"
   ]
  },
  {
   "cell_type": "markdown",
   "id": "e407dcea-2cbb-4229-bc0d-88c7f21b3fa9",
   "metadata": {},
   "source": [
    "## Author\n",
    "Christophe BREDEL"
   ]
  },
  {
   "cell_type": "code",
   "execution_count": null,
   "id": "e96a4123-fdfc-4a61-a85d-4a0a1a47e2da",
   "metadata": {},
   "outputs": [],
   "source": []
  },
  {
   "cell_type": "code",
   "execution_count": null,
   "id": "f83315f8-b7b0-4e5d-83a7-ac74943ccb4b",
   "metadata": {},
   "outputs": [],
   "source": []
  }
 ],
 "metadata": {
  "kernelspec": {
   "display_name": "Python 3 (ipykernel)",
   "language": "python",
   "name": "python3"
  },
  "language_info": {
   "codemirror_mode": {
    "name": "ipython",
    "version": 3
   },
   "file_extension": ".py",
   "mimetype": "text/x-python",
   "name": "python",
   "nbconvert_exporter": "python",
   "pygments_lexer": "ipython3",
   "version": "3.10.10"
  }
 },
 "nbformat": 4,
 "nbformat_minor": 5
}
