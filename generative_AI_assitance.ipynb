{
 "cells": [
  {
   "cell_type": "markdown",
   "id": "cde9a0fe-d7a8-4805-a583-761566c7cd30",
   "metadata": {},
   "source": [
    "# Retail sales data analysis"
   ]
  },
  {
   "cell_type": "markdown",
   "id": "c52041e2-fdd8-4cb0-a453-c413cd46dd39",
   "metadata": {},
   "source": [
    "## Import necessary module"
   ]
  },
  {
   "cell_type": "code",
   "execution_count": 18,
   "id": "6441004e-4963-43ce-8f29-e7c426de1431",
   "metadata": {},
   "outputs": [],
   "source": [
    "import pandas as pd\n",
    "import matplotlib.pyplot as plt"
   ]
  },
  {
   "cell_type": "markdown",
   "id": "3aa958ae-73b0-4c99-8adf-c72a46d05587",
   "metadata": {},
   "source": [
    "## Load Data"
   ]
  },
  {
   "cell_type": "code",
   "execution_count": 4,
   "id": "25c9e231-1662-4aa4-a951-65058385b945",
   "metadata": {},
   "outputs": [],
   "source": [
    "df=pd.read_csv(\"retail_sales.csv\")"
   ]
  },
  {
   "cell_type": "markdown",
   "id": "02b12d32-0de1-4eeb-90f7-3ea33c7cf4f5",
   "metadata": {},
   "source": [
    "## Data Exploration"
   ]
  },
  {
   "cell_type": "code",
   "execution_count": 5,
   "id": "a10ba646-7be8-4a20-9b80-367e1cc6bbc5",
   "metadata": {},
   "outputs": [
    {
     "data": {
      "text/html": [
       "<div>\n",
       "<style scoped>\n",
       "    .dataframe tbody tr th:only-of-type {\n",
       "        vertical-align: middle;\n",
       "    }\n",
       "\n",
       "    .dataframe tbody tr th {\n",
       "        vertical-align: top;\n",
       "    }\n",
       "\n",
       "    .dataframe thead th {\n",
       "        text-align: right;\n",
       "    }\n",
       "</style>\n",
       "<table border=\"1\" class=\"dataframe\">\n",
       "  <thead>\n",
       "    <tr style=\"text-align: right;\">\n",
       "      <th></th>\n",
       "      <th>Retailer Name</th>\n",
       "      <th>Retailer ID</th>\n",
       "      <th>Invoice Date</th>\n",
       "      <th>Region</th>\n",
       "      <th>State</th>\n",
       "      <th>District</th>\n",
       "      <th>Product</th>\n",
       "      <th>Price per Unit (INR)</th>\n",
       "      <th>Units Sold</th>\n",
       "      <th>Total Sales (INR)</th>\n",
       "      <th>...</th>\n",
       "      <th>Unnamed: 20</th>\n",
       "      <th>Unnamed: 21</th>\n",
       "      <th>Unnamed: 22</th>\n",
       "      <th>Unnamed: 23</th>\n",
       "      <th>Unnamed: 24</th>\n",
       "      <th>Unnamed: 25</th>\n",
       "      <th>Unnamed: 26</th>\n",
       "      <th>Unnamed: 27</th>\n",
       "      <th>Unnamed: 28</th>\n",
       "      <th>Unnamed: 29</th>\n",
       "    </tr>\n",
       "  </thead>\n",
       "  <tbody>\n",
       "    <tr>\n",
       "      <th>0</th>\n",
       "      <td>Prime Step Store</td>\n",
       "      <td>95425</td>\n",
       "      <td>6/9/2018</td>\n",
       "      <td>South</td>\n",
       "      <td>Karnataka</td>\n",
       "      <td>Bengaluru</td>\n",
       "      <td>Sneakers</td>\n",
       "      <td>2260</td>\n",
       "      <td>57</td>\n",
       "      <td>128820</td>\n",
       "      <td>...</td>\n",
       "      <td>NaN</td>\n",
       "      <td>NaN</td>\n",
       "      <td>NaN</td>\n",
       "      <td>NaN</td>\n",
       "      <td>NaN</td>\n",
       "      <td>NaN</td>\n",
       "      <td>NaN</td>\n",
       "      <td>NaN</td>\n",
       "      <td>NaN</td>\n",
       "      <td>NaN</td>\n",
       "    </tr>\n",
       "    <tr>\n",
       "      <th>1</th>\n",
       "      <td>Best Path Emporium</td>\n",
       "      <td>40826</td>\n",
       "      <td>12/22/2018</td>\n",
       "      <td>North</td>\n",
       "      <td>Punjab</td>\n",
       "      <td>Jalandhar</td>\n",
       "      <td>Sandals</td>\n",
       "      <td>4792</td>\n",
       "      <td>33</td>\n",
       "      <td>158136</td>\n",
       "      <td>...</td>\n",
       "      <td>NaN</td>\n",
       "      <td>NaN</td>\n",
       "      <td>NaN</td>\n",
       "      <td>NaN</td>\n",
       "      <td>NaN</td>\n",
       "      <td>NaN</td>\n",
       "      <td>NaN</td>\n",
       "      <td>NaN</td>\n",
       "      <td>NaN</td>\n",
       "      <td>NaN</td>\n",
       "    </tr>\n",
       "    <tr>\n",
       "      <th>2</th>\n",
       "      <td>Prime Walk Boutique</td>\n",
       "      <td>83635</td>\n",
       "      <td>6/12/2022</td>\n",
       "      <td>North</td>\n",
       "      <td>Punjab</td>\n",
       "      <td>Amritsar</td>\n",
       "      <td>Heels</td>\n",
       "      <td>3795</td>\n",
       "      <td>65</td>\n",
       "      <td>246675</td>\n",
       "      <td>...</td>\n",
       "      <td>NaN</td>\n",
       "      <td>NaN</td>\n",
       "      <td>NaN</td>\n",
       "      <td>NaN</td>\n",
       "      <td>NaN</td>\n",
       "      <td>NaN</td>\n",
       "      <td>NaN</td>\n",
       "      <td>NaN</td>\n",
       "      <td>NaN</td>\n",
       "      <td>NaN</td>\n",
       "    </tr>\n",
       "    <tr>\n",
       "      <th>3</th>\n",
       "      <td>Top Footwear Co</td>\n",
       "      <td>33817</td>\n",
       "      <td>3/22/2019</td>\n",
       "      <td>South</td>\n",
       "      <td>Karnataka</td>\n",
       "      <td>Hubli</td>\n",
       "      <td>Heels</td>\n",
       "      <td>1462</td>\n",
       "      <td>93</td>\n",
       "      <td>135966</td>\n",
       "      <td>...</td>\n",
       "      <td>NaN</td>\n",
       "      <td>NaN</td>\n",
       "      <td>NaN</td>\n",
       "      <td>NaN</td>\n",
       "      <td>NaN</td>\n",
       "      <td>NaN</td>\n",
       "      <td>NaN</td>\n",
       "      <td>NaN</td>\n",
       "      <td>NaN</td>\n",
       "      <td>NaN</td>\n",
       "    </tr>\n",
       "    <tr>\n",
       "      <th>4</th>\n",
       "      <td>Fresh Style Boutique</td>\n",
       "      <td>48028</td>\n",
       "      <td>8/14/2019</td>\n",
       "      <td>East</td>\n",
       "      <td>West Bengal</td>\n",
       "      <td>Howrah</td>\n",
       "      <td>Sneakers</td>\n",
       "      <td>4034</td>\n",
       "      <td>26</td>\n",
       "      <td>104884</td>\n",
       "      <td>...</td>\n",
       "      <td>NaN</td>\n",
       "      <td>NaN</td>\n",
       "      <td>NaN</td>\n",
       "      <td>NaN</td>\n",
       "      <td>NaN</td>\n",
       "      <td>NaN</td>\n",
       "      <td>NaN</td>\n",
       "      <td>NaN</td>\n",
       "      <td>NaN</td>\n",
       "      <td>NaN</td>\n",
       "    </tr>\n",
       "  </tbody>\n",
       "</table>\n",
       "<p>5 rows × 30 columns</p>\n",
       "</div>"
      ],
      "text/plain": [
       "          Retailer Name  Retailer ID Invoice Date Region        State  \\\n",
       "0      Prime Step Store        95425     6/9/2018  South    Karnataka   \n",
       "1    Best Path Emporium        40826   12/22/2018  North       Punjab   \n",
       "2   Prime Walk Boutique        83635    6/12/2022  North       Punjab   \n",
       "3       Top Footwear Co        33817    3/22/2019  South    Karnataka   \n",
       "4  Fresh Style Boutique        48028    8/14/2019   East  West Bengal   \n",
       "\n",
       "    District   Product  Price per Unit (INR)  Units Sold  Total Sales (INR)  \\\n",
       "0  Bengaluru  Sneakers                  2260          57             128820   \n",
       "1  Jalandhar   Sandals                  4792          33             158136   \n",
       "2   Amritsar     Heels                  3795          65             246675   \n",
       "3      Hubli     Heels                  1462          93             135966   \n",
       "4     Howrah  Sneakers                  4034          26             104884   \n",
       "\n",
       "   ...  Unnamed: 20 Unnamed: 21  Unnamed: 22  Unnamed: 23  Unnamed: 24  \\\n",
       "0  ...          NaN         NaN          NaN          NaN          NaN   \n",
       "1  ...          NaN         NaN          NaN          NaN          NaN   \n",
       "2  ...          NaN         NaN          NaN          NaN          NaN   \n",
       "3  ...          NaN         NaN          NaN          NaN          NaN   \n",
       "4  ...          NaN         NaN          NaN          NaN          NaN   \n",
       "\n",
       "   Unnamed: 25  Unnamed: 26  Unnamed: 27  Unnamed: 28  Unnamed: 29  \n",
       "0          NaN          NaN          NaN          NaN          NaN  \n",
       "1          NaN          NaN          NaN          NaN          NaN  \n",
       "2          NaN          NaN          NaN          NaN          NaN  \n",
       "3          NaN          NaN          NaN          NaN          NaN  \n",
       "4          NaN          NaN          NaN          NaN          NaN  \n",
       "\n",
       "[5 rows x 30 columns]"
      ]
     },
     "execution_count": 5,
     "metadata": {},
     "output_type": "execute_result"
    }
   ],
   "source": [
    "df.head()"
   ]
  },
  {
   "cell_type": "code",
   "execution_count": 6,
   "id": "d0ecef4a-6bc6-4bd9-9f3c-b3eea6dd47e5",
   "metadata": {},
   "outputs": [
    {
     "name": "stdout",
     "output_type": "stream",
     "text": [
      "<class 'pandas.core.frame.DataFrame'>\n",
      "RangeIndex: 5000 entries, 0 to 4999\n",
      "Data columns (total 30 columns):\n",
      " #   Column                  Non-Null Count  Dtype  \n",
      "---  ------                  --------------  -----  \n",
      " 0   Retailer Name           5000 non-null   object \n",
      " 1   Retailer ID             5000 non-null   int64  \n",
      " 2   Invoice Date            5000 non-null   object \n",
      " 3   Region                  5000 non-null   object \n",
      " 4   State                   5000 non-null   object \n",
      " 5   District                5000 non-null   object \n",
      " 6   Product                 5000 non-null   object \n",
      " 7   Price per Unit (INR)    5000 non-null   int64  \n",
      " 8   Units Sold              5000 non-null   int64  \n",
      " 9   Total Sales (INR)       5000 non-null   int64  \n",
      " 10  Operating Profit (INR)  5000 non-null   float64\n",
      " 11  Sales Method            5000 non-null   object \n",
      " 12  Unnamed: 12             0 non-null      float64\n",
      " 13  Unnamed: 13             0 non-null      float64\n",
      " 14  Unnamed: 14             0 non-null      float64\n",
      " 15  Unnamed: 15             0 non-null      float64\n",
      " 16  Unnamed: 16             0 non-null      float64\n",
      " 17  Unnamed: 17             0 non-null      float64\n",
      " 18  Unnamed: 18             0 non-null      float64\n",
      " 19  Unnamed: 19             0 non-null      float64\n",
      " 20  Unnamed: 20             0 non-null      float64\n",
      " 21  Unnamed: 21             0 non-null      float64\n",
      " 22  Unnamed: 22             0 non-null      float64\n",
      " 23  Unnamed: 23             0 non-null      float64\n",
      " 24  Unnamed: 24             0 non-null      float64\n",
      " 25  Unnamed: 25             0 non-null      float64\n",
      " 26  Unnamed: 26             0 non-null      float64\n",
      " 27  Unnamed: 27             0 non-null      float64\n",
      " 28  Unnamed: 28             0 non-null      float64\n",
      " 29  Unnamed: 29             0 non-null      float64\n",
      "dtypes: float64(19), int64(4), object(7)\n",
      "memory usage: 1.1+ MB\n"
     ]
    }
   ],
   "source": [
    "df.info()"
   ]
  },
  {
   "cell_type": "markdown",
   "id": "134d5893-e812-4dd3-9df6-24d38e43d35b",
   "metadata": {},
   "source": [
    "### Remove Unused columns"
   ]
  },
  {
   "cell_type": "code",
   "execution_count": 9,
   "id": "bfcbc238-9788-4907-96ce-0411c4ce80b4",
   "metadata": {},
   "outputs": [],
   "source": [
    "df = df.dropna(axis=1, how='all')"
   ]
  },
  {
   "cell_type": "code",
   "execution_count": 10,
   "id": "25ed4834-78f4-480d-97de-917d0b51138c",
   "metadata": {},
   "outputs": [
    {
     "data": {
      "text/plain": [
       "<bound method NDFrame.describe of                Retailer Name  Retailer ID Invoice Date Region        State  \\\n",
       "0           Prime Step Store        95425     6/9/2018  South    Karnataka   \n",
       "1         Best Path Emporium        40826   12/22/2018  North       Punjab   \n",
       "2        Prime Walk Boutique        83635    6/12/2022  North       Punjab   \n",
       "3            Top Footwear Co        33817    3/22/2019  South    Karnataka   \n",
       "4       Fresh Style Boutique        48028    8/14/2019   East  West Bengal   \n",
       "...                      ...          ...          ...    ...          ...   \n",
       "4995        Great Step Place        42978     2/3/2021  North       Punjab   \n",
       "4996   Prime Fashion Company        71405    2/21/2018  North       Punjab   \n",
       "4997         Urban Path Mart        62341    2/24/2019   East  West Bengal   \n",
       "4998  Reliable Walk Boutique        25626    8/24/2023  South    Karnataka   \n",
       "4999   Quality Shoe Boutique        73363    7/31/2021  North       Punjab   \n",
       "\n",
       "       District   Product  Price per Unit (INR)  Units Sold  \\\n",
       "0     Bengaluru  Sneakers                  2260          57   \n",
       "1     Jalandhar   Sandals                  4792          33   \n",
       "2      Amritsar     Heels                  3795          65   \n",
       "3         Hubli     Heels                  1462          93   \n",
       "4        Howrah  Sneakers                  4034          26   \n",
       "...         ...       ...                   ...         ...   \n",
       "4995   Amritsar   Sandals                  1058          78   \n",
       "4996   Amritsar     Heels                  3573          87   \n",
       "4997    Kolkata     Boots                  1150          35   \n",
       "4998     Mysore     Boots                  2848          76   \n",
       "4999   Ludhiana   Sandals                  2151          12   \n",
       "\n",
       "      Total Sales (INR)  Operating Profit (INR) Sales Method  \n",
       "0                128820            36869.164510      Offline  \n",
       "1                158136            25677.736120       Online  \n",
       "2                246675            51524.131500       Online  \n",
       "3                135966            37666.685140      Offline  \n",
       "4                104884            15143.360960       Online  \n",
       "...                 ...                     ...          ...  \n",
       "4995              82524            22248.623420      Offline  \n",
       "4996             310851            74405.468310       Online  \n",
       "4997              40250             7294.642337      Offline  \n",
       "4998             216448            42236.480490      Offline  \n",
       "4999              25812             7212.392213       Online  \n",
       "\n",
       "[5000 rows x 12 columns]>"
      ]
     },
     "execution_count": 10,
     "metadata": {},
     "output_type": "execute_result"
    }
   ],
   "source": [
    "df.describe"
   ]
  },
  {
   "cell_type": "markdown",
   "id": "81a2b365-841f-4af9-9b46-9181a14f7c29",
   "metadata": {},
   "source": [
    "## Clean Data"
   ]
  },
  {
   "cell_type": "code",
   "execution_count": 12,
   "id": "4914864a-8212-4424-b431-22f395642963",
   "metadata": {},
   "outputs": [
    {
     "data": {
      "text/plain": [
       "Retailer Name             0\n",
       "Retailer ID               0\n",
       "Invoice Date              0\n",
       "Region                    0\n",
       "State                     0\n",
       "District                  0\n",
       "Product                   0\n",
       "Price per Unit (INR)      0\n",
       "Units Sold                0\n",
       "Total Sales (INR)         0\n",
       "Operating Profit (INR)    0\n",
       "Sales Method              0\n",
       "dtype: int64"
      ]
     },
     "execution_count": 12,
     "metadata": {},
     "output_type": "execute_result"
    }
   ],
   "source": [
    "df.isna().sum()"
   ]
  },
  {
   "cell_type": "markdown",
   "id": "8a2c7184-98c2-404b-9127-d0304e6b4345",
   "metadata": {},
   "source": [
    "Sorry, but there are no NA value in that dataset"
   ]
  },
  {
   "cell_type": "markdown",
   "id": "22daea42-1f39-4e3f-850c-8aaa82a8f668",
   "metadata": {},
   "source": [
    "### Try to find outlier (With Generative IA)\n",
    "\n",
    "There is no column where Outlier could be possible. So the test a code found on Gemini to calculate outler the INR column. "
   ]
  },
  {
   "cell_type": "code",
   "execution_count": 17,
   "id": "2b2ebc65-d47e-4038-9997-1a7412c026e4",
   "metadata": {},
   "outputs": [
    {
     "name": "stdout",
     "output_type": "stream",
     "text": [
      "166\n"
     ]
    }
   ],
   "source": [
    "Q1 = df['Operating Profit (INR)'].quantile(0.25)\n",
    "Q3 = df['Operating Profit (INR)'].quantile(0.75)\n",
    "IQR = Q3 - Q1\n",
    "\n",
    "# Limites inférieures et supérieures\n",
    "lower_bound = Q1 - 1.5 * IQR\n",
    "upper_bound = Q3 + 1.5 * IQR\n",
    "\n",
    "# Identification des outliers\n",
    "outliers = df[(df['Operating Profit (INR)'] < lower_bound) | (df['Operating Profit (INR)'] > upper_bound)]\n",
    "\n",
    "print(outliers.shape[0])"
   ]
  },
  {
   "cell_type": "markdown",
   "id": "bc12dc30-123c-46f4-ba64-61786005e122",
   "metadata": {},
   "source": [
    "In that column there is 166 outliers, but we can't confirm that there are really outlier"
   ]
  },
  {
   "cell_type": "markdown",
   "id": "d28aacdd-52ae-4d91-a75b-5cc34eb40696",
   "metadata": {},
   "source": [
    "## Data visualisation (with generative IA)"
   ]
  },
  {
   "cell_type": "code",
   "execution_count": 19,
   "id": "d3c5dbc6-effa-4cae-a2cd-f083f70c2920",
   "metadata": {},
   "outputs": [
    {
     "data": {
      "image/png": "[encoded data removed]",
      "text/plain": [
       "<Figure size 640x480 with 1 Axes>"
      ]
     },
     "metadata": {},
     "output_type": "display_data"
    }
   ],
   "source": [
    "plt.bar(df['Product'], df['Total Sales (INR)'])\n",
    "plt.xlabel('Product')\n",
    "plt.ylabel('Total Sales (INR)')\n",
    "plt.title('Total sales by product')\n",
    "plt.show()"
   ]
  },
  {
   "cell_type": "code",
   "execution_count": 24,
   "id": "8a1ce4b3-af29-4b4d-adb1-f2acfb0039ec",
   "metadata": {},
   "outputs": [
    {
     "name": "stderr",
     "output_type": "stream",
     "text": [
      "C:\\Users\\bredech\\AppData\\Local\\Temp\\1\\ipykernel_23832\\4115459730.py:1: SettingWithCopyWarning: \n",
      "A value is trying to be set on a copy of a slice from a DataFrame.\n",
      "Try using .loc[row_indexer,col_indexer] = value instead\n",
      "\n",
      "See the caveats in the documentation: https://pandas.pydata.org/pandas-docs/stable/user_guide/indexing.html#returning-a-view-versus-a-copy\n",
      "  df['Invoice Date2'] = pd.to_datetime(df['Invoice Date'], format='%m/%d/%Y')\n",
      "C:\\Users\\bredech\\AppData\\Local\\Temp\\1\\ipykernel_23832\\4115459730.py:2: SettingWithCopyWarning: \n",
      "A value is trying to be set on a copy of a slice from a DataFrame.\n",
      "Try using .loc[row_indexer,col_indexer] = value instead\n",
      "\n",
      "See the caveats in the documentation: https://pandas.pydata.org/pandas-docs/stable/user_guide/indexing.html#returning-a-view-versus-a-copy\n",
      "  df['invoice_year'] = df['Invoice Date2'].dt.year  # Extraire le mois de la date\n"
     ]
    },
    {
     "data": {
      "image/png": "[encoded data removed]",
      "text/plain": [
       "<Figure size 640x480 with 1 Axes>"
      ]
     },
     "metadata": {},
     "output_type": "display_data"
    }
   ],
   "source": [
    "df['Invoice Date2'] = pd.to_datetime(df['Invoice Date'], format='%m/%d/%Y')\n",
    "df['invoice_year'] = df['Invoice Date2'].dt.year  # Extraire le mois de la date\n",
    "sales_by_year = df.groupby('invoice_year')['Total Sales (INR)'].sum()\n",
    "\n",
    "plt.plot(sales_by_month.index, sales_by_month.values)\n",
    "plt.xlabel('Year')\n",
    "plt.ylabel('Total Sales')\n",
    "plt.title('Evolution sales by Year')\n",
    "#plt.xticks(ventes_par_mois.index, ['Jan', 'Fév', 'Mar', ...])  # Personnaliser les labels des mois\n",
    "plt.grid(True)\n",
    "plt.show()"
   ]
  }
 ],
 "metadata": {
  "kernelspec": {
   "display_name": "Python 3 (ipykernel)",
   "language": "python",
   "name": "python3"
  },
  "language_info": {
   "codemirror_mode": {
    "name": "ipython",
    "version": 3
   },
   "file_extension": ".py",
   "mimetype": "text/x-python",
   "name": "python",
   "nbconvert_exporter": "python",
   "pygments_lexer": "ipython3",
   "version": "3.10.10"
  }
 },
 "nbformat": 4,
 "nbformat_minor": 5
}
